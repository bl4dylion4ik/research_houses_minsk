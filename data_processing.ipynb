{
 "cells": [
  {
   "cell_type": "markdown",
   "metadata": {},
   "source": [
    "## Предобработка данных"
   ]
  },
  {
   "cell_type": "code",
   "execution_count": 1,
   "metadata": {},
   "outputs": [],
   "source": [
    "import pandas as pd\n",
    "import numpy as np\n",
    "import re"
   ]
  },
  {
   "cell_type": "code",
   "execution_count": 2,
   "metadata": {},
   "outputs": [],
   "source": [
    "import seaborn as sns\n",
    "import matplotlib.pyplot as plt\n",
    "\n",
    "plt.style.use('ggplot')\n",
    "%matplotlib inline"
   ]
  },
  {
   "cell_type": "code",
   "execution_count": 3,
   "metadata": {},
   "outputs": [
    {
     "name": "stdout",
     "output_type": "stream",
     "text": [
      "(13915, 26)\n"
     ]
    },
    {
     "data": {
      "text/html": [
       "<div>\n",
       "<style scoped>\n",
       "    .dataframe tbody tr th:only-of-type {\n",
       "        vertical-align: middle;\n",
       "    }\n",
       "\n",
       "    .dataframe tbody tr th {\n",
       "        vertical-align: top;\n",
       "    }\n",
       "\n",
       "    .dataframe thead th {\n",
       "        text-align: right;\n",
       "    }\n",
       "</style>\n",
       "<table border=\"1\" class=\"dataframe\">\n",
       "  <thead>\n",
       "    <tr style=\"text-align: right;\">\n",
       "      <th></th>\n",
       "      <th>Область</th>\n",
       "      <th>Населенный пункт</th>\n",
       "      <th>Адрес</th>\n",
       "      <th>Район города</th>\n",
       "      <th>Метро</th>\n",
       "      <th>Комнат всего/разд.</th>\n",
       "      <th>Этаж / этажность</th>\n",
       "      <th>Тип дома</th>\n",
       "      <th>Площадь общая/жилая/кухня</th>\n",
       "      <th>Высота потолков</th>\n",
       "      <th>...</th>\n",
       "      <th>Площадь по СНБ</th>\n",
       "      <th>Планировка</th>\n",
       "      <th>Год кап.ремонта</th>\n",
       "      <th>Телефон</th>\n",
       "      <th>Дополнительно</th>\n",
       "      <th>Полы</th>\n",
       "      <th>Вид этажа</th>\n",
       "      <th>Площадь балконов, лоджий, террас</th>\n",
       "      <th>Unnamed: 24</th>\n",
       "      <th>Число уровней</th>\n",
       "    </tr>\n",
       "  </thead>\n",
       "  <tbody>\n",
       "    <tr>\n",
       "      <th>0</th>\n",
       "      <td>Минская область</td>\n",
       "      <td>г. Минск</td>\n",
       "      <td>Прилукская ул.</td>\n",
       "      <td>Московский районМикрорайон \"Михалово\"</td>\n",
       "      <td>м. Михалово , расстояние ≈900м, (Московская ли...</td>\n",
       "      <td>1 / 1</td>\n",
       "      <td>7 / 14</td>\n",
       "      <td>каркасно-блочный</td>\n",
       "      <td>41.74 / 27.56 / – м²</td>\n",
       "      <td>2.7 м</td>\n",
       "      <td>...</td>\n",
       "      <td>NaN</td>\n",
       "      <td>NaN</td>\n",
       "      <td>NaN</td>\n",
       "      <td>NaN</td>\n",
       "      <td>NaN</td>\n",
       "      <td>NaN</td>\n",
       "      <td>NaN</td>\n",
       "      <td>NaN</td>\n",
       "      <td>NaN</td>\n",
       "      <td>NaN</td>\n",
       "    </tr>\n",
       "    <tr>\n",
       "      <th>1</th>\n",
       "      <td>Минская область</td>\n",
       "      <td>г. Минск</td>\n",
       "      <td>Червякова ул., 22 Информация о доме</td>\n",
       "      <td>Центральный районМикрорайон \"Червякова, Шевченко\"</td>\n",
       "      <td>NaN</td>\n",
       "      <td>3 / 2</td>\n",
       "      <td>2 / 9</td>\n",
       "      <td>кирпичный</td>\n",
       "      <td>60.1 / 41.6 / 8.2 м²</td>\n",
       "      <td>2.5 м</td>\n",
       "      <td>...</td>\n",
       "      <td>60.1 кв.м.</td>\n",
       "      <td>стандартный проект</td>\n",
       "      <td>2006.0</td>\n",
       "      <td>есть</td>\n",
       "      <td>NaN</td>\n",
       "      <td>NaN</td>\n",
       "      <td>NaN</td>\n",
       "      <td>NaN</td>\n",
       "      <td>NaN</td>\n",
       "      <td>NaN</td>\n",
       "    </tr>\n",
       "    <tr>\n",
       "      <th>2</th>\n",
       "      <td>Минская область</td>\n",
       "      <td>г. Минск</td>\n",
       "      <td>Богдановича ул., 55 Информация о доме</td>\n",
       "      <td>Советский районМикрорайон \"Богдановича, Куйбыш...</td>\n",
       "      <td>м. Площадь Победы , расстояние ≈1450м, (Москов...</td>\n",
       "      <td>4 / 2</td>\n",
       "      <td>7 / 9</td>\n",
       "      <td>панельный</td>\n",
       "      <td>79.1 / 54.06 / 7.2 м²</td>\n",
       "      <td>NaN</td>\n",
       "      <td>...</td>\n",
       "      <td>NaN</td>\n",
       "      <td>стандартный проект</td>\n",
       "      <td>NaN</td>\n",
       "      <td>NaN</td>\n",
       "      <td>встроенные шкафы, стеклопакеты, бытовая техника</td>\n",
       "      <td>NaN</td>\n",
       "      <td>NaN</td>\n",
       "      <td>NaN</td>\n",
       "      <td>NaN</td>\n",
       "      <td>NaN</td>\n",
       "    </tr>\n",
       "  </tbody>\n",
       "</table>\n",
       "<p>3 rows × 26 columns</p>\n",
       "</div>"
      ],
      "text/plain": [
       "           Область Населенный пункт                                  Адрес  \\\n",
       "0  Минская область         г. Минск                         Прилукская ул.   \n",
       "1  Минская область         г. Минск    Червякова ул., 22 Информация о доме   \n",
       "2  Минская область         г. Минск  Богдановича ул., 55 Информация о доме   \n",
       "\n",
       "                                        Район города  \\\n",
       "0              Московский районМикрорайон \"Михалово\"   \n",
       "1  Центральный районМикрорайон \"Червякова, Шевченко\"   \n",
       "2  Советский районМикрорайон \"Богдановича, Куйбыш...   \n",
       "\n",
       "                                               Метро Комнат всего/разд.  \\\n",
       "0  м. Михалово , расстояние ≈900м, (Московская ли...              1 / 1   \n",
       "1                                                NaN              3 / 2   \n",
       "2  м. Площадь Победы , расстояние ≈1450м, (Москов...              4 / 2   \n",
       "\n",
       "  Этаж / этажность          Тип дома Площадь общая/жилая/кухня  \\\n",
       "0           7 / 14  каркасно-блочный      41.74 / 27.56 / – м²   \n",
       "1            2 / 9         кирпичный      60.1 / 41.6 / 8.2 м²   \n",
       "2            7 / 9         панельный     79.1 / 54.06 / 7.2 м²   \n",
       "\n",
       "  Высота потолков  ...  Площадь по СНБ          Планировка Год кап.ремонта  \\\n",
       "0           2.7 м  ...             NaN                 NaN             NaN   \n",
       "1           2.5 м  ...      60.1 кв.м.  стандартный проект          2006.0   \n",
       "2             NaN  ...             NaN  стандартный проект             NaN   \n",
       "\n",
       "  Телефон                                    Дополнительно Полы Вид этажа  \\\n",
       "0     NaN                                              NaN  NaN       NaN   \n",
       "1    есть                                              NaN  NaN       NaN   \n",
       "2     NaN  встроенные шкафы, стеклопакеты, бытовая техника  NaN       NaN   \n",
       "\n",
       "  Площадь балконов, лоджий, террас  Unnamed: 24 Число уровней  \n",
       "0                              NaN          NaN           NaN  \n",
       "1                              NaN          NaN           NaN  \n",
       "2                              NaN          NaN           NaN  \n",
       "\n",
       "[3 rows x 26 columns]"
      ]
     },
     "execution_count": 3,
     "metadata": {},
     "output_type": "execute_result"
    }
   ],
   "source": [
    "df = pd.read_csv('flat_research_minsk.csv')\n",
    "df = df.drop_duplicates()\n",
    "df.reset_index(drop=True, inplace=True)\n",
    "print(df.shape)\n",
    "df.head(3)\n"
   ]
  },
  {
   "cell_type": "code",
   "execution_count": 4,
   "metadata": {},
   "outputs": [
    {
     "name": "stdout",
     "output_type": "stream",
     "text": [
      "<class 'pandas.core.frame.DataFrame'>\n",
      "RangeIndex: 13915 entries, 0 to 13914\n",
      "Data columns (total 26 columns):\n",
      " #   Column                            Non-Null Count  Dtype  \n",
      "---  ------                            --------------  -----  \n",
      " 0   Область                           13915 non-null  object \n",
      " 1   Населенный пункт                  13915 non-null  object \n",
      " 2   Адрес                             13915 non-null  object \n",
      " 3   Район города                      13901 non-null  object \n",
      " 4   Метро                             8112 non-null   object \n",
      " 5   Комнат всего/разд.                13915 non-null  object \n",
      " 6   Этаж / этажность                  13909 non-null  object \n",
      " 7   Тип дома                          13062 non-null  object \n",
      " 8   Площадь общая/жилая/кухня         13915 non-null  object \n",
      " 9   Высота потолков                   10161 non-null  object \n",
      " 10  Год постройки                     13262 non-null  float64\n",
      " 11  Сан/узел                          11040 non-null  object \n",
      " 12  Балкон                            12847 non-null  object \n",
      " 13  Ремонт                            8512 non-null   object \n",
      " 14  Примечания                        7171 non-null   object \n",
      " 15  Цена                              13915 non-null  object \n",
      " 16  Площадь по СНБ                    1421 non-null   object \n",
      " 17  Планировка                        11642 non-null  object \n",
      " 18  Год кап.ремонта                   957 non-null    float64\n",
      " 19  Телефон                           4594 non-null   object \n",
      " 20  Дополнительно                     10646 non-null  object \n",
      " 21  Полы                              7145 non-null   object \n",
      " 22  Вид этажа                         415 non-null    object \n",
      " 23  Площадь балконов, лоджий, террас  2485 non-null   object \n",
      " 24  Unnamed: 24                       2518 non-null   object \n",
      " 25  Число уровней                     85 non-null     object \n",
      "dtypes: float64(2), object(24)\n",
      "memory usage: 2.8+ MB\n"
     ]
    }
   ],
   "source": [
    "df.info()"
   ]
  },
  {
   "cell_type": "code",
   "execution_count": 5,
   "metadata": {},
   "outputs": [
    {
     "data": {
      "image/png": "[encoded data removed]",
      "text/plain": [
       "<Figure size 1080x576 with 2 Axes>"
      ]
     },
     "metadata": {
      "needs_background": "light"
     },
     "output_type": "display_data"
    }
   ],
   "source": [
    "plt.figure(figsize=(15,8))\n",
    "sns.heatmap(df.isnull());"
   ]
  },
  {
   "cell_type": "code",
   "execution_count": 6,
   "metadata": {},
   "outputs": [
    {
     "data": {
      "image/png": "[encoded data removed]",
      "text/plain": [
       "<Figure size 1080x576 with 1 Axes>"
      ]
     },
     "metadata": {
      "needs_background": "light"
     },
     "output_type": "display_data"
    }
   ],
   "source": [
    "plt.figure(figsize=(15,8))\n",
    "(100*df.isnull().sum()/df.shape[0]).sort_values(ascending=False).plot(kind='bar');"
   ]
  },
  {
   "cell_type": "code",
   "execution_count": 7,
   "metadata": {},
   "outputs": [
    {
     "data": {
      "text/plain": [
       "array(['г. Минск'], dtype=object)"
      ]
     },
     "execution_count": 7,
     "metadata": {},
     "output_type": "execute_result"
    }
   ],
   "source": [
    "df['Населенный пункт'].unique()"
   ]
  },
  {
   "cell_type": "markdown",
   "metadata": {},
   "source": [
    "Выкинем из наших данных неиформативные признаки и признаки с большим количеством пропусков, а также Область и Населеный пункт, так как наши все данные из Минска"
   ]
  },
  {
   "cell_type": "code",
   "execution_count": 8,
   "metadata": {},
   "outputs": [],
   "source": [
    "df.drop(['Число уровней', 'Unnamed: 24', 'Год кап.ремонта',\n",
    "         'Площадь по СНБ', 'Площадь балконов, лоджий, террас',\n",
    "         'Вид этажа', 'Телефон', 'Населенный пункт', 'Область'], axis=1, inplace=True)"
   ]
  },
  {
   "cell_type": "code",
   "execution_count": 9,
   "metadata": {},
   "outputs": [
    {
     "data": {
      "text/html": [
       "<div>\n",
       "<style scoped>\n",
       "    .dataframe tbody tr th:only-of-type {\n",
       "        vertical-align: middle;\n",
       "    }\n",
       "\n",
       "    .dataframe tbody tr th {\n",
       "        vertical-align: top;\n",
       "    }\n",
       "\n",
       "    .dataframe thead th {\n",
       "        text-align: right;\n",
       "    }\n",
       "</style>\n",
       "<table border=\"1\" class=\"dataframe\">\n",
       "  <thead>\n",
       "    <tr style=\"text-align: right;\">\n",
       "      <th></th>\n",
       "      <th>Адрес</th>\n",
       "      <th>Район города</th>\n",
       "      <th>Метро</th>\n",
       "      <th>Комнат всего/разд.</th>\n",
       "      <th>Этаж / этажность</th>\n",
       "      <th>Тип дома</th>\n",
       "      <th>Площадь общая/жилая/кухня</th>\n",
       "      <th>Высота потолков</th>\n",
       "      <th>Год постройки</th>\n",
       "      <th>Сан/узел</th>\n",
       "      <th>Балкон</th>\n",
       "      <th>Ремонт</th>\n",
       "      <th>Примечания</th>\n",
       "      <th>Цена</th>\n",
       "      <th>Планировка</th>\n",
       "      <th>Дополнительно</th>\n",
       "      <th>Полы</th>\n",
       "    </tr>\n",
       "  </thead>\n",
       "  <tbody>\n",
       "    <tr>\n",
       "      <th>0</th>\n",
       "      <td>Прилукская ул.</td>\n",
       "      <td>Московский районМикрорайон \"Михалово\"</td>\n",
       "      <td>м. Михалово , расстояние ≈900м, (Московская ли...</td>\n",
       "      <td>1 / 1</td>\n",
       "      <td>7 / 14</td>\n",
       "      <td>каркасно-блочный</td>\n",
       "      <td>41.74 / 27.56 / – м²</td>\n",
       "      <td>2.7 м</td>\n",
       "      <td>2022.0</td>\n",
       "      <td>2 сан.узла</td>\n",
       "      <td>лоджия застекленная</td>\n",
       "      <td>без отделки</td>\n",
       "      <td>Новый жилой комплекс комфорт класса «Smart» на...</td>\n",
       "      <td>125 146 BYN</td>\n",
       "      <td>NaN</td>\n",
       "      <td>NaN</td>\n",
       "      <td>NaN</td>\n",
       "    </tr>\n",
       "    <tr>\n",
       "      <th>1</th>\n",
       "      <td>Червякова ул., 22 Информация о доме</td>\n",
       "      <td>Центральный районМикрорайон \"Червякова, Шевченко\"</td>\n",
       "      <td>NaN</td>\n",
       "      <td>3 / 2</td>\n",
       "      <td>2 / 9</td>\n",
       "      <td>кирпичный</td>\n",
       "      <td>60.1 / 41.6 / 8.2 м²</td>\n",
       "      <td>2.5 м</td>\n",
       "      <td>1969.0</td>\n",
       "      <td>раздельный</td>\n",
       "      <td>балкон</td>\n",
       "      <td>нормальный ремонт</td>\n",
       "      <td>Поможем продать вашу квартиру для покупки этой.</td>\n",
       "      <td>161 805 BYN</td>\n",
       "      <td>стандартный проект</td>\n",
       "      <td>NaN</td>\n",
       "      <td>NaN</td>\n",
       "    </tr>\n",
       "    <tr>\n",
       "      <th>2</th>\n",
       "      <td>Богдановича ул., 55 Информация о доме</td>\n",
       "      <td>Советский районМикрорайон \"Богдановича, Куйбыш...</td>\n",
       "      <td>м. Площадь Победы , расстояние ≈1450м, (Москов...</td>\n",
       "      <td>4 / 2</td>\n",
       "      <td>7 / 9</td>\n",
       "      <td>панельный</td>\n",
       "      <td>79.1 / 54.06 / 7.2 м²</td>\n",
       "      <td>NaN</td>\n",
       "      <td>1978.0</td>\n",
       "      <td>раздельный</td>\n",
       "      <td>2 лоджии застекленные</td>\n",
       "      <td>отличный ремонт</td>\n",
       "      <td>Отличный ремонт, качественные материалы, стекл...</td>\n",
       "      <td>265 461 BYN</td>\n",
       "      <td>стандартный проект</td>\n",
       "      <td>встроенные шкафы, стеклопакеты, бытовая техника</td>\n",
       "      <td>NaN</td>\n",
       "    </tr>\n",
       "  </tbody>\n",
       "</table>\n",
       "</div>"
      ],
      "text/plain": [
       "                                   Адрес  \\\n",
       "0                         Прилукская ул.   \n",
       "1    Червякова ул., 22 Информация о доме   \n",
       "2  Богдановича ул., 55 Информация о доме   \n",
       "\n",
       "                                        Район города  \\\n",
       "0              Московский районМикрорайон \"Михалово\"   \n",
       "1  Центральный районМикрорайон \"Червякова, Шевченко\"   \n",
       "2  Советский районМикрорайон \"Богдановича, Куйбыш...   \n",
       "\n",
       "                                               Метро Комнат всего/разд.  \\\n",
       "0  м. Михалово , расстояние ≈900м, (Московская ли...              1 / 1   \n",
       "1                                                NaN              3 / 2   \n",
       "2  м. Площадь Победы , расстояние ≈1450м, (Москов...              4 / 2   \n",
       "\n",
       "  Этаж / этажность          Тип дома Площадь общая/жилая/кухня  \\\n",
       "0           7 / 14  каркасно-блочный      41.74 / 27.56 / – м²   \n",
       "1            2 / 9         кирпичный      60.1 / 41.6 / 8.2 м²   \n",
       "2            7 / 9         панельный     79.1 / 54.06 / 7.2 м²   \n",
       "\n",
       "  Высота потолков  Год постройки    Сан/узел                 Балкон  \\\n",
       "0           2.7 м         2022.0  2 сан.узла    лоджия застекленная   \n",
       "1           2.5 м         1969.0  раздельный                 балкон   \n",
       "2             NaN         1978.0  раздельный  2 лоджии застекленные   \n",
       "\n",
       "              Ремонт                                         Примечания  \\\n",
       "0        без отделки  Новый жилой комплекс комфорт класса «Smart» на...   \n",
       "1  нормальный ремонт    Поможем продать вашу квартиру для покупки этой.   \n",
       "2    отличный ремонт  Отличный ремонт, качественные материалы, стекл...   \n",
       "\n",
       "            Цена          Планировка  \\\n",
       "0   125 146 BYN                  NaN   \n",
       "1   161 805 BYN   стандартный проект   \n",
       "2   265 461 BYN   стандартный проект   \n",
       "\n",
       "                                     Дополнительно Полы  \n",
       "0                                              NaN  NaN  \n",
       "1                                              NaN  NaN  \n",
       "2  встроенные шкафы, стеклопакеты, бытовая техника  NaN  "
      ]
     },
     "execution_count": 9,
     "metadata": {},
     "output_type": "execute_result"
    }
   ],
   "source": [
    "df.head(3)"
   ]
  },
  {
   "cell_type": "markdown",
   "metadata": {},
   "source": [
    "Создадими стоблцы с раздельными данными"
   ]
  },
  {
   "cell_type": "code",
   "execution_count": 10,
   "metadata": {},
   "outputs": [
    {
     "data": {
      "text/plain": [
       "array(['1 / 1', '3 / 2', '4 / 2', '4 / 0', '2 / 2', '2 / 1', '3 / 3',\n",
       "       '4 / 4',\n",
       "       'Фактически 2-комнатная квартира. Свободная планировка. По техпаспорту – 1 комнатная квартира.',\n",
       "       'Свободная планировка (3-комнатная)', '2 / 0',\n",
       "       'Свободная планировка (2-комнатная)',\n",
       "       'Свободная планировка (1-комнатная)', '4 / 3', '4 / 1', '5 / 2',\n",
       "       '1/6 доли в 1-комнатной квартире',\n",
       "       '26/100 доли в 3-комнатной квартире',\n",
       "       'комната в 3-комнатной квартире', 'доля в 1-комнатной квартире',\n",
       "       'комната в 5-комнатной квартире', 'комната в 4-комнатной квартире',\n",
       "       '1/2 доли в 1-комнатной квартире',\n",
       "       'комната в 6-комнатной квартире',\n",
       "       '3/20 доли в 5-комнатной квартире',\n",
       "       '13/100 доли в 6-комнатной квартире',\n",
       "       '0.31 доли в 3-комнатной квартире',\n",
       "       '3/5 доли в 2-комнатной квартире',\n",
       "       '7/20 доли в 3-комнатной квартире',\n",
       "       '1/4 доли в 4-комнатной квартире',\n",
       "       '9/25 доли в 2-комнатной квартире',\n",
       "       'комната в 2-комнатной квартире',\n",
       "       '4/25 доли в 6-комнатной квартире',\n",
       "       '3/10 доли в 3-комнатной квартире',\n",
       "       '1/2 доли в 2-комнатной квартире',\n",
       "       '37/100 доли в 4-комнатной квартире',\n",
       "       '27/100 доли в 3-комнатной квартире',\n",
       "       '37/100 доли в 2-комнатной квартире',\n",
       "       '41/100 доли в 3-комнатной квартире',\n",
       "       '2/5 доли в 2-комнатной квартире',\n",
       "       '38/100 доли в 3-комнатной квартире',\n",
       "       '0.5 доли в 2-комнатной квартире',\n",
       "       '39/100 доли в 3-комнатной квартире',\n",
       "       '17/50 доли в 4-комнатной квартире',\n",
       "       '37/100 доли в 3-комнатной квартире',\n",
       "       '51/100 доли в 3-комнатной квартире',\n",
       "       '48/100 доли в 4-комнатной квартире',\n",
       "       '29/100 доли в 4-комнатной квартире',\n",
       "       '1/5 доли в 5-комнатной квартире',\n",
       "       '9/20 доли в 3-комнатной квартире',\n",
       "       '9/20 доли в 2-комнатной квартире',\n",
       "       '27/100 доли в 4-комнатной квартире',\n",
       "       '50/100 доли в 2-комнатной квартире',\n",
       "       '43/100 доли в 3-комнатной квартире',\n",
       "       '17/100 доли в 4-комнатной квартире',\n",
       "       '30/100 доли в 4-комнатной квартире',\n",
       "       '17/50 доли в 3-комнатной квартире',\n",
       "       'комната в 7-комнатной квартире',\n",
       "       '53/100 доли в 2-комнатной квартире',\n",
       "       '1/3 доли в 3-комнатной квартире',\n",
       "       '2/3 доли в 1-комнатной квартире',\n",
       "       '27/50 доли в 2-комнатной квартире',\n",
       "       '61/100 доли в 2-комнатной квартире',\n",
       "       '49/100 доли в 2-комнатной квартире',\n",
       "       '75/100 доли в 1-комнатной квартире',\n",
       "       '31/50 доли в 2-комнатной квартире',\n",
       "       '32/100 доли в 4-комнатной квартире',\n",
       "       '64/100 доли в 2-комнатной квартире',\n",
       "       '43/100 доли в 2-комнатной квартире',\n",
       "       '1/2 доли в 3-комнатной квартире',\n",
       "       '29/50 доли в 2-комнатной квартире',\n",
       "       '23/50 доли в 4-комнатной квартире',\n",
       "       '16/25 доли в 2-комнатной квартире',\n",
       "       '0.43 доли в 3-комнатной квартире',\n",
       "       '32/100 доли в 2-комнатной квартире',\n",
       "       '65/100 доли в 2-комнатной квартире',\n",
       "       '46/100 доли в 2-комнатной квартире',\n",
       "       '9/20 доли в 4-комнатной квартире',\n",
       "       '63/100 доли в 2-комнатной квартире',\n",
       "       '5/8 доли в 1-комнатной квартире',\n",
       "       '2/5 доли в 3-комнатной квартире',\n",
       "       '51/100 доли в 2-комнатной квартире',\n",
       "       '31/100 доли в 4-комнатной квартире',\n",
       "       '1/2 доли в 4-комнатной квартире',\n",
       "       '58/100 доли в 2-комнатной квартире',\n",
       "       '359/500 доли в 3-комнатной квартире',\n",
       "       '68/100 доли в 3-комнатной квартире',\n",
       "       '58/100 доли в 3-комнатной квартире',\n",
       "       '65/100 доли в 3-комнатной квартире',\n",
       "       '47/100 доли в 2-комнатной квартире',\n",
       "       '39/100 доли в 5-комнатной квартире',\n",
       "       '54/100 доли в 3-комнатной квартире',\n",
       "       '59/100 доли в 3-комнатной квартире',\n",
       "       '31/50 доли в 4-комнатной квартире',\n",
       "       '18/20 доли в 3-комнатной квартире',\n",
       "       '18/25 доли в 4-комнатной квартире',\n",
       "       '57/100 доли в 4-комнатной квартире',\n",
       "       '68/125 доли в 3-комнатной квартире',\n",
       "       '79/100 доли в 4-комнатной квартире',\n",
       "       '16/25 доли в 4-комнатной квартире',\n",
       "       '2/3 доли в 3-комнатной квартире', '1 /', '1 / 0',\n",
       "       'Фактически 2-комнатная квартира. Свободная планировка. По техпаспорту – 3 комнатная квартира.',\n",
       "       '3 / 0', '3 / 1',\n",
       "       'Фактически 3-комнатная квартира. Свободная планировка. По техпаспорту – 2 комнатная квартира.',\n",
       "       'Фактически 3-комнатная квартира. Свободная планировка. По техпаспорту – 1 комнатная квартира.',\n",
       "       'Фактически 3-комнатная квартира. Свободная планировка. По техпаспорту – 4 комнатная квартира.',\n",
       "       '3 /', 'Свободная планировка (4-комнатная)',\n",
       "       'Фактически 4-комнатная квартира. Свободная планировка. По техпаспорту – 1 комнатная квартира.',\n",
       "       'Фактически 4-комнатная квартира. Свободная планировка. По техпаспорту – 3 комнатная квартира.',\n",
       "       'Фактически 4-комнатная квартира. Свободная планировка. По техпаспорту – 6 комнатная квартира.',\n",
       "       'Фактически 4-комнатная квартира. Свободная планировка. По техпаспорту – 5 комнатная квартира.',\n",
       "       '5 / 5', 'Свободная планировка (5-комнатная)',\n",
       "       'Фактически 5-комнатная квартира. Свободная планировка. По техпаспорту – 7 комнатная квартира.',\n",
       "       '5 / 4', '5 / 0',\n",
       "       'Фактически 5-комнатная квартира. Свободная планировка. По техпаспорту – 3 комнатная квартира.',\n",
       "       'Фактически 5-комнатная квартира. Свободная планировка. По техпаспорту – 4 комнатная квартира.',\n",
       "       '5 / 3', '6 / 5', '6 / 6', '6 / 4', '6 / 3'], dtype=object)"
      ]
     },
     "execution_count": 10,
     "metadata": {},
     "output_type": "execute_result"
    }
   ],
   "source": [
    "df['Комнат всего/разд.'].unique()"
   ]
  },
  {
   "cell_type": "code",
   "execution_count": 11,
   "metadata": {},
   "outputs": [],
   "source": [
    "df['Все комнаты'] = df['Комнат всего/разд.'].apply(lambda x : x[0] if re.search('[а-я-А-Я]', x) is None else np.nan)\n",
    "df['Все комнаты'] = pd.to_numeric(df['Все комнаты'], errors='coerce')\n",
    "df['Раздельных комнат'] = df['Комнат всего/разд.'].apply(lambda x : x[-1] if re.search('[а-я-А-Я]', x) is None else int(re.search('[0-9]-', x)[0][0]))\n",
    "df['Раздельных комнат'] = pd.to_numeric(df['Раздельных комнат'], errors='coerce')\n"
   ]
  },
  {
   "cell_type": "code",
   "execution_count": 12,
   "metadata": {},
   "outputs": [],
   "source": [
    "df['Этаж / этажность'].fillna(0, inplace=True)\n",
    "df['Этаж / этажность'] = df['Этаж / этажность'].apply(str)"
   ]
  },
  {
   "cell_type": "code",
   "execution_count": 13,
   "metadata": {},
   "outputs": [
    {
     "data": {
      "text/plain": [
       "array(['7 / 14', '2 / 9', '7 / 9', '3 / 5', '8 / 9', '22 / 25', '1 / 5',\n",
       "       '3 / 9', '1 / 9', '4 / 26', '2 / 19', '16 / 18', '2 / 20', '2 / 5',\n",
       "       '3 / 25', '1 / 25', '21 / 24', '5 / 5', '5 / 10', '15 / 19',\n",
       "       '23 / 24', '4 / 10', '16 / 20', '1 / 10', '12 / 25', '3 / 16',\n",
       "       '10 / 12', '3 / 6', '1 / 19', '18 / 19', '10 / 15', '7 / 24',\n",
       "       '3 / 20', '2 / 2', '5 / 19', '4 / 4', '6 / 10', '6 / 12', '4 / 9',\n",
       "       '21 / 25', '2 / 8', '8 / 12', '8 / 16', '2 / 25', '2 / 14',\n",
       "       '19 / 25', '1 / 3', '5 / 7', '18 / 26', '2 / 4', '12 / 19',\n",
       "       '9 / 9', '12 / 20', '13 / 14', '2 / 13', '2 / 10', '16 / 25',\n",
       "       '16 / 16', '18 / 20', '13 / 13', '9 / 12', '7 / 7', '4 / 5',\n",
       "       '5 / 9', '21 / 27', '19 / 19', '8 / 10', '6 / 9', '3 / 4',\n",
       "       '19 / 21', '15 / 24', '24 / 25', '15 / 18', '2 / 12', '11 / 25',\n",
       "       '9 / 25', '7 / 10', '14 / 17', '8 / 25', '20 / 25', '4 / 12',\n",
       "       '1 / 12', '1 / 4', '2 / 3', '3 / 3', '7 / 12', '1 / 1', '3 / 12',\n",
       "       '11 / 12', '1 / 2', '10 / 10', '7 / 13', '5 этажей', '9 / 10',\n",
       "       '8 / 8', '11 / 11', '6 / 15', '17 / 25', '25 / 25', '14 / 25',\n",
       "       '18 / 25', '23 / 25', '15 / 25', '5 / 25', '7 / 25', '10 / 25',\n",
       "       '13 / 25', '4 / 25', '6 / 25', '0', '8 / 19', '7 / 19', '17 / 19',\n",
       "       '19-й этаж', '3 / 19', '14 / 19', '9 / 19', '13 / 19', '9 / 15',\n",
       "       '17 / 21', '16 / 19', '6 / 24', '6 / 19', '10 / 19', '11 / 19',\n",
       "       '7 / 16', '14 / 24', '9-й этаж', '4 / 15', '11 / 15', '10 / 16',\n",
       "       '13 / 15', '3 / 21', '4 / 19', '12 / 15', '12 / 16', '2 / 16',\n",
       "       '9 / 16', '14 / 16', '3 / 10', '15 / 15', '2 / 24', '14 / 15',\n",
       "       '13 / 16', '8 / 15', '4 / 20', '4 / 24', '5 / 15', '16 / 24',\n",
       "       '2 / 15', '7 / 15', '3 / 15', '5 / 20', '14 / 20', '10 / 24',\n",
       "       '11 / 16', '4 / 16', '5 / 16', '17 / 24', '7 / 20', '9 / 20',\n",
       "       '12 / 24', '13 / 20', '15 / 16', '17 / 20', '15 / 20', '10 / 20',\n",
       "       '20 / 24', '24 / 24', '6 / 20', '11 / 20', '20 / 20', '8 / 20',\n",
       "       '17 / 17', '18 / 21', '17 / 18', '6-й этаж', '9 / 21', '6 / 16',\n",
       "       '8-й этаж', '11 / 2', '14 / 22', '5 / 17', '6 / 17', '16 / 17',\n",
       "       '13 / 17', '11 / 17', '12 / 17', '4 / 17', '9 / 17', '2 / 17',\n",
       "       '15 / 17', '8 / 21', '12 / 12', '8 / 18', '8 / 24', '10 / 18',\n",
       "       '12 / 21', '4 / 11', '4 / 14', '5 / 21', '5 / 13', '7 / 17',\n",
       "       '1 / 8', '1 / 7', '2 / 6', '11 / 24', '1 / 16', '1 / 14', '3 / 18',\n",
       "       '1-й этаж', '4 / 18', '5 / 24', '2 / 7', '1 / 15', '10 / 22',\n",
       "       '9 / 14', '12 / 14', '7 / 21', '4 / 23', '5 / 12', '3 / 13',\n",
       "       '10 / 21', '5 / 22', '14 / 14', '10 / 17', '3 / 17', '8 / 17',\n",
       "       '1 / 11', '4 / 8', '19 / 20', '13 / 22', '3 / 24', '19 / 22',\n",
       "       '21 / 22', '21 / 21', '16 этажей', '20 / 22', '6 / 13', '1 / 27',\n",
       "       '6 / 7', '13 / 18', '15 / 22', '6 / 21', '11 / 13', '4 / 7',\n",
       "       '3 / 7', '1 / 6', '6 / 11', '18 / 18', '5 / 14', '3 / 11',\n",
       "       '12 / 13', '10 / 23', '4 / 22', '3 / 27', '1 / 23', '20 / 23',\n",
       "       '17 / 22', '17 / 23', '10 / 14', '9 / 18', '6 / 22', '7 / 8',\n",
       "       '3 / 8', '6 / 8', '5 / 8', '1 / 17', '8 / 27', '17 / 27',\n",
       "       '20 / 27', '6 / 23', '15 / 21', '9 / 22', '18 / 22', '4 / 6',\n",
       "       '20 / 26', '7 / 11', '8 / 14', '1 / 18', '7 / 27', '9 / 27',\n",
       "       '5 / 6', '2-й этаж', '5 / 27', '5 / 11', '8 / 7', '9 / 11',\n",
       "       '11 / 26', '14 / 27', '1 / 24', '13 / 24', '14 / 18', '22 / 22',\n",
       "       '4 / 13', '6 / 6', '6 / 14', '3 / 22', '9 / 24', '5 / 26',\n",
       "       '12 / 27', '12 / 26', '17 / 32', '7 / 22', '18 / 8', '19 / 8',\n",
       "       '15 / 8', '17 / 8', '22 / 24', '10 / 13', '10 / 26', '25 / 26',\n",
       "       '3 / 23', '11-й этаж', '19 этажей', '11 / 18', '20 / 21', '1 / 20',\n",
       "       '8 / 13', '13 / 21', '2 / 18', '15-й этаж', '7 / 18', '9 / 23',\n",
       "       '7 / 23', '19 / 24', '14 / 21', '16 / 21', '13 / 27', '18 / 24',\n",
       "       '11 / 23', '13 / 23', '2 / 21', '2 / 22', '10-й этаж', '10 / 11',\n",
       "       '8 / 23', '12 / 23', '14 / 23', '15 / 23', '16 / 23', '18 / 23',\n",
       "       '19 / 23', '5 / 23', '1 / 21', '21 / 23', '22 / 23', '23 / 23',\n",
       "       '4 / 21', '1 / 22', '12 / 1', '14 / 1', '17-й этаж', '4 / 1',\n",
       "       '9 / 1', '10 / 1', '11 / 21', '11 / 27', '12 / 22', '8 / 11',\n",
       "       '20 / 19', '8 / 22', '1 / 13', '19 / 15', '9 / 13', '15 / 26',\n",
       "       '27 / 27', '16 / 27', '11 / 14', '2 / 11', '26 / 27', '23 / 27',\n",
       "       '23 / 20', '22 / 26', '23 / 26', '2 / 26', '10 / 8', '11 / 8',\n",
       "       '16 / 26', '17 / 26', '12 / 10', '16 / 10', '20-й этаж', '2 / 23',\n",
       "       '4 / 27', '5 / 18', '6 / 18', '12 / 18', '11 / 22', '11 / 1',\n",
       "       '3 / 14', '9 / 26', '22 / 27', '24 / 27', '1 этаж', '9 / 7',\n",
       "       '14 / 26', '21 / 26', '1 / 26', '21 / 32', '10 / 32', '2 / 28',\n",
       "       '7 / 32', '32 / 32', '3 / 31', '31 / 32', '3 этажа'], dtype=object)"
      ]
     },
     "execution_count": 13,
     "metadata": {},
     "output_type": "execute_result"
    }
   ],
   "source": [
    "df['Этаж / этажность'].unique()"
   ]
  },
  {
   "cell_type": "code",
   "execution_count": 14,
   "metadata": {},
   "outputs": [],
   "source": [
    "df['Этаж'] = df['Этаж / этажность'].apply(lambda x : int(re.search('\\d\\d-|\\d-', x)[0][:-1])\n",
    "                                          if re.search('-[а-яА-Я]', x) is not None and x!=0\n",
    "                                          else( int(re.search('\\d\\d|\\d', x)[0][0]\n",
    "                                                   if x != 0 and re.search('[а-яА-Я]', x) is not None\n",
    "                                                   else(int(x[0:2]) if x!=0 else np.nan))))\n",
    "df['Этаж'] = pd.to_numeric(df['Этаж'], errors='coerce')\n",
    "\n",
    "df['Этажность'] = df['Этаж / этажность'].apply(lambda x : int(re.search('\\d\\d-|\\d-', x)[0][:-1])\n",
    "                                          if re.search('-[а-яА-Я]', x) is not None and x!=0\n",
    "                                          else( int(re.search('\\d\\d|\\d', x)[0][0]\n",
    "                                                   if x != 0 and re.search('[а-яА-Я]', x) is not None\n",
    "                                                   else(int(x[-2:]) if x!=0 else np.nan))))\n",
    "df['Этажность'] = pd.to_numeric(df['Этажность'], errors='coerce')"
   ]
  },
  {
   "cell_type": "code",
   "execution_count": 15,
   "metadata": {},
   "outputs": [
    {
     "data": {
      "text/plain": [
       "array(['41.74 / 27.56 / – м²', '60.1 / 41.6 / 8.2 м²',\n",
       "       '79.1 / 54.06 / 7.2 м²', ..., '440 / 200 / 13.4 м²',\n",
       "       '234.8 / 186.9 / 30 м²', '316.4 / 153.8 / 27.4 м²'], dtype=object)"
      ]
     },
     "execution_count": 15,
     "metadata": {},
     "output_type": "execute_result"
    }
   ],
   "source": [
    "df['Площадь общая/жилая/кухня'] = df['Площадь общая/жилая/кухня'].apply(str)\n",
    "df['Площадь общая/жилая/кухня'].unique()"
   ]
  },
  {
   "cell_type": "code",
   "execution_count": 16,
   "metadata": {},
   "outputs": [],
   "source": [
    "df['Площадь общая'] = df['Площадь общая/жилая/кухня'].apply(lambda x: x.split('/')[0])\n",
    "df['Площадь общая'] = pd.to_numeric(df['Площадь общая'], errors='coerce')\n",
    "\n",
    "df['Площадь жилая'] = df['Площадь общая/жилая/кухня'].apply(lambda x: x.split('/')[1])\n",
    "df['Площадь жилая'] = pd.to_numeric(df['Площадь жилая'], errors='coerce')\n",
    "\n",
    "df['Площадь кухни'] = df['Площадь общая/жилая/кухня'].apply(lambda x: x.split('/')[2][:-2])\n",
    "df['Площадь кухни'] = pd.to_numeric(df['Площадь кухни'], errors='coerce')"
   ]
  },
  {
   "cell_type": "code",
   "execution_count": 17,
   "metadata": {},
   "outputs": [],
   "source": [
    "df.drop(['Комнат всего/разд.', 'Этаж / этажность', 'Площадь общая/жилая/кухня'], axis=1, inplace=True)"
   ]
  },
  {
   "cell_type": "code",
   "execution_count": 18,
   "metadata": {},
   "outputs": [
    {
     "name": "stdout",
     "output_type": "stream",
     "text": [
      "<class 'pandas.core.frame.DataFrame'>\n",
      "RangeIndex: 13915 entries, 0 to 13914\n",
      "Data columns (total 21 columns):\n",
      " #   Column             Non-Null Count  Dtype  \n",
      "---  ------             --------------  -----  \n",
      " 0   Адрес              13915 non-null  object \n",
      " 1   Район города       13901 non-null  object \n",
      " 2   Метро              8112 non-null   object \n",
      " 3   Тип дома           13062 non-null  object \n",
      " 4   Высота потолков    10161 non-null  object \n",
      " 5   Год постройки      13262 non-null  float64\n",
      " 6   Сан/узел           11040 non-null  object \n",
      " 7   Балкон             12847 non-null  object \n",
      " 8   Ремонт             8512 non-null   object \n",
      " 9   Примечания         7171 non-null   object \n",
      " 10  Цена               13915 non-null  object \n",
      " 11  Планировка         11642 non-null  object \n",
      " 12  Дополнительно      10646 non-null  object \n",
      " 13  Полы               7145 non-null   object \n",
      " 14  Все комнаты        8285 non-null   float64\n",
      " 15  Раздельных комнат  13912 non-null  float64\n",
      " 16  Этаж               13915 non-null  int64  \n",
      " 17  Этажность          13915 non-null  int64  \n",
      " 18  Площадь общая      13914 non-null  float64\n",
      " 19  Площадь жилая      13214 non-null  float64\n",
      " 20  Площадь кухни      10321 non-null  float64\n",
      "dtypes: float64(6), int64(2), object(13)\n",
      "memory usage: 2.2+ MB\n"
     ]
    }
   ],
   "source": [
    "df.info()"
   ]
  },
  {
   "cell_type": "code",
   "execution_count": 19,
   "metadata": {},
   "outputs": [],
   "source": [
    "df['Метро'].fillna(-1, inplace=True)\n",
    "df['Метро'].isnull().sum()\n",
    "df['Метро'] = df['Метро'].apply(str)"
   ]
  },
  {
   "cell_type": "markdown",
   "metadata": {},
   "source": [
    "Сделаем столбец с расстоянием до метро. Если в данных не было указано расстояние то возьмем среднее, а если в данных была пропущен столбец метро то поставим -1"
   ]
  },
  {
   "cell_type": "code",
   "execution_count": 20,
   "metadata": {},
   "outputs": [],
   "source": [
    "df['Расстояние до метро'] = df['Метро'].apply(lambda x: re.search('\\≈\\w+', x)[0][1:-1] if x !=-1 and \n",
    "                                              re.search('\\≈\\w+', x) is not None\n",
    "                                              else (-1 if x == '-1' else 0))\n",
    "df['Расстояние до метро'] = pd.to_numeric(df['Расстояние до метро'], errors='coerce')"
   ]
  },
  {
   "cell_type": "code",
   "execution_count": 21,
   "metadata": {},
   "outputs": [],
   "source": [
    "df['Расстояние до метро'] = df['Расстояние до метро'].apply(lambda x: df['Расстояние до метро'].mean() if x == 0 else x)"
   ]
  },
  {
   "cell_type": "code",
   "execution_count": 22,
   "metadata": {},
   "outputs": [],
   "source": [
    "df.drop('Метро',axis=1,inplace=True)"
   ]
  },
  {
   "cell_type": "markdown",
   "metadata": {},
   "source": [
    "Выделим районы города"
   ]
  },
  {
   "cell_type": "code",
   "execution_count": 23,
   "metadata": {},
   "outputs": [
    {
     "data": {
      "text/plain": [
       "14"
      ]
     },
     "execution_count": 23,
     "metadata": {},
     "output_type": "execute_result"
    }
   ],
   "source": [
    "df['Район города'].isnull().sum()"
   ]
  },
  {
   "cell_type": "markdown",
   "metadata": {},
   "source": [
    "Eсли по нему не было данных просто удалим это наблюдение, так как их очень мало"
   ]
  },
  {
   "cell_type": "code",
   "execution_count": 24,
   "metadata": {},
   "outputs": [
    {
     "data": {
      "text/plain": [
       "array(['Московский районМикрорайон \"Михалово\"',\n",
       "       'Центральный районМикрорайон \"Червякова, Шевченко\"',\n",
       "       'Советский районМикрорайон \"Богдановича, Куйбышева, Веры Хоружей, Независимости\"',\n",
       "       'Центральный районМикрорайон \"Дрозды\"',\n",
       "       'Фрунзенский районМикрорайон \"Сухарево\"',\n",
       "       'Первомайский районМикрорайон \"Макаенка\"',\n",
       "       'Заводской районМикрорайон \"Шабаны\"',\n",
       "       'Первомайский районМикрорайон \"Независимости, Кедышко, Волгоградская\"',\n",
       "       'Центральный районМикрорайон \"Лебяжий (Ржавец)\"',\n",
       "       'Ленинский районМикрорайон \"нач.Партизанского, пл.Ванеева\"',\n",
       "       'Октябрьский районМикрорайон \"Минск Мир (Minsk World)\"',\n",
       "       'Первомайский районМикрорайон \"Маяк Минска\"',\n",
       "       'Первомайский районМикрорайон \"Восток\"',\n",
       "       'Советский районМикрорайон \"Гикало, Золотая Горка\"',\n",
       "       'Советский районМикрорайон \"Я.Коласа-Рига, Некрасова, Восточная\"',\n",
       "       'Октябрьский районМикрорайон \"Воронянского, Могилевская, Чкалова\"',\n",
       "       'Фрунзенский районМикрорайон \"Запад, Красный Бор\"',\n",
       "       'Первомайский районМикрорайон \"Военный городок (Великий лес)\"',\n",
       "       'Фрунзенский районМикрорайон \"Пушкина-Глебки-Притыцкого-Ольшевского-Кальварийская\"',\n",
       "       'Ленинский районМикрорайон \"Маркса, Кирова\"',\n",
       "       'Заводской районМикрорайон \"Р-н ДК МАЗ\"',\n",
       "       'Октябрьский районМикрорайон \"Серова\"',\n",
       "       'Заводской районМикрорайон \"Партизанский, Васнецова, Народная\"',\n",
       "       'Заводской районМикрорайон \"Ангарская\"',\n",
       "       'Ленинский районМикрорайон \"Серебрянка\"',\n",
       "       'Фрунзенский районМикрорайон \"Пушкина-Мавра-Бельского\"',\n",
       "       'Партизанский районМикрорайон \"Багратиона, Менделеева, Уральская, Столетова\"',\n",
       "       'Московский районМикрорайон \"Малиновка\"',\n",
       "       'Первомайский районМикрорайон \"Уручье\"',\n",
       "       'Фрунзенский районМикрорайон \"Масюковщина\"',\n",
       "       'Партизанский районМикрорайон \"Захарова, Пулихова\"',\n",
       "       'Ленинский районМикрорайон \"Лошица\"',\n",
       "       'Московский районМикрорайон \"Дзержинского, Хмелевского, Щорса\"',\n",
       "       'Партизанский районМикрорайон \"Слепянка\"',\n",
       "       'Московский районМикрорайон \"Р.Люксембург, К.Либкнехта\"',\n",
       "       'Фрунзенский районМикрорайон \"Каменная горка\"',\n",
       "       'Первомайский районМикрорайон \"Седых, Тикоцкого\"',\n",
       "       'Центральный районМикрорайон \"Машерова, Оперный театр, Коммунистическая\"',\n",
       "       'Центральный районМикрорайон \"Победителей, Заславская, Грибоедова, Тимирязева\"',\n",
       "       'Заводской районМикрорайон \"Чижовка\"',\n",
       "       'Октябрьский районМикрорайон \"Курасовщина\"',\n",
       "       'Советский районМикрорайон \"Зеленый луг\"',\n",
       "       'Заводской районМикрорайон \"Сосны\"',\n",
       "       'Московский районМикрорайон \"Юго-Запад\"',\n",
       "       'Ленинский районМикрорайон \"Маяковского\"',\n",
       "       'Первомайский районМикрорайон \"Озерище\"',\n",
       "       'Советский районМикрорайон \"Сельхоз посёлок\"',\n",
       "       'Первомайский районМикрорайон \"Ботаническая, Академическая\"',\n",
       "       'Октябрьский районМикрорайон \"Вокзал\"',\n",
       "       'Партизанский районМикрорайон \"Тракторный Завод\"',\n",
       "       'Фрунзенский районМикрорайон \"Пушкина-Харьковская-Берута-Гусовского\"',\n",
       "       'Центральный районМикрорайон \"Веснянка\"',\n",
       "       'Фрунзенский районМикрорайон \"Кунцевщина\"',\n",
       "       'Центральный районМикрорайон \"Независимости, Немига, Романовская слобода\"',\n",
       "       'Партизанский районМикрорайон \"Дражня, Холмогорская\"',\n",
       "       'Фрунзенский районМикрорайон \"Домбровка\"',\n",
       "       'Московский районМикрорайон \"Брилевичи\"',\n",
       "       'Центральный районМикрорайон \"Новинки\"', 'Октябрьский район',\n",
       "       'Октябрьский районМикрорайон \"Колядичи\"', 'Микрорайон \"Сокол\"',\n",
       "       'Партизанский районМикрорайон \"Степянка\"', nan,\n",
       "       'Московский районМикрорайон \"Уманская, Железнодорожная, Грушевская\"',\n",
       "       'Октябрьский районМикрорайон \"Сокол\"',\n",
       "       'Московский районМикрорайон \"Немига, Короля, Клары Цеткин\"',\n",
       "       'Центральный районМикрорайон \"Левада\"', 'Центральный район',\n",
       "       'Московский районМикрорайон \"Независимости, Немига, Романовская слобода\"',\n",
       "       'Московский районМикрорайон \"Сухарево\"',\n",
       "       'Московский районМикрорайон \"Вокзал\"',\n",
       "       'Советский районМикрорайон \"Червякова, Шевченко\"',\n",
       "       'Центральный районМикрорайон \"Цнянка\"',\n",
       "       'Советский районМикрорайон \"Цна\"',\n",
       "       'Советский районМикрорайон \"Боровая\"'], dtype=object)"
      ]
     },
     "execution_count": 24,
     "metadata": {},
     "output_type": "execute_result"
    }
   ],
   "source": [
    "df['Район города'].unique()"
   ]
  },
  {
   "cell_type": "code",
   "execution_count": 25,
   "metadata": {},
   "outputs": [],
   "source": [
    "df['Район города'].dropna(inplace=True)\n",
    "df['Район города'] = df['Район города'].apply(str)"
   ]
  },
  {
   "cell_type": "code",
   "execution_count": 26,
   "metadata": {},
   "outputs": [],
   "source": [
    "df['Район города'] = df['Район города'].apply(lambda x: re.search('\\w+ район', x)[0] \n",
    "                                              if re.search('\\w+ район', x) is not None\n",
    "                                             else x[0])"
   ]
  },
  {
   "cell_type": "code",
   "execution_count": 27,
   "metadata": {},
   "outputs": [
    {
     "data": {
      "text/html": [
       "<div>\n",
       "<style scoped>\n",
       "    .dataframe tbody tr th:only-of-type {\n",
       "        vertical-align: middle;\n",
       "    }\n",
       "\n",
       "    .dataframe tbody tr th {\n",
       "        vertical-align: top;\n",
       "    }\n",
       "\n",
       "    .dataframe thead th {\n",
       "        text-align: right;\n",
       "    }\n",
       "</style>\n",
       "<table border=\"1\" class=\"dataframe\">\n",
       "  <thead>\n",
       "    <tr style=\"text-align: right;\">\n",
       "      <th></th>\n",
       "      <th>Адрес</th>\n",
       "      <th>Район города</th>\n",
       "      <th>Тип дома</th>\n",
       "      <th>Высота потолков</th>\n",
       "      <th>Год постройки</th>\n",
       "      <th>Сан/узел</th>\n",
       "      <th>Балкон</th>\n",
       "      <th>Ремонт</th>\n",
       "      <th>Примечания</th>\n",
       "      <th>Цена</th>\n",
       "      <th>...</th>\n",
       "      <th>Дополнительно</th>\n",
       "      <th>Полы</th>\n",
       "      <th>Все комнаты</th>\n",
       "      <th>Раздельных комнат</th>\n",
       "      <th>Этаж</th>\n",
       "      <th>Этажность</th>\n",
       "      <th>Площадь общая</th>\n",
       "      <th>Площадь жилая</th>\n",
       "      <th>Площадь кухни</th>\n",
       "      <th>Расстояние до метро</th>\n",
       "    </tr>\n",
       "  </thead>\n",
       "  <tbody>\n",
       "    <tr>\n",
       "      <th>0</th>\n",
       "      <td>Прилукская ул.</td>\n",
       "      <td>Московский район</td>\n",
       "      <td>каркасно-блочный</td>\n",
       "      <td>2.7 м</td>\n",
       "      <td>2022.0</td>\n",
       "      <td>2 сан.узла</td>\n",
       "      <td>лоджия застекленная</td>\n",
       "      <td>без отделки</td>\n",
       "      <td>Новый жилой комплекс комфорт класса «Smart» на...</td>\n",
       "      <td>125 146 BYN</td>\n",
       "      <td>...</td>\n",
       "      <td>NaN</td>\n",
       "      <td>NaN</td>\n",
       "      <td>1.0</td>\n",
       "      <td>1.0</td>\n",
       "      <td>7</td>\n",
       "      <td>14</td>\n",
       "      <td>41.74</td>\n",
       "      <td>27.56</td>\n",
       "      <td>NaN</td>\n",
       "      <td>900.0</td>\n",
       "    </tr>\n",
       "    <tr>\n",
       "      <th>1</th>\n",
       "      <td>Червякова ул., 22 Информация о доме</td>\n",
       "      <td>Центральный район</td>\n",
       "      <td>кирпичный</td>\n",
       "      <td>2.5 м</td>\n",
       "      <td>1969.0</td>\n",
       "      <td>раздельный</td>\n",
       "      <td>балкон</td>\n",
       "      <td>нормальный ремонт</td>\n",
       "      <td>Поможем продать вашу квартиру для покупки этой.</td>\n",
       "      <td>161 805 BYN</td>\n",
       "      <td>...</td>\n",
       "      <td>NaN</td>\n",
       "      <td>NaN</td>\n",
       "      <td>3.0</td>\n",
       "      <td>2.0</td>\n",
       "      <td>2</td>\n",
       "      <td>9</td>\n",
       "      <td>60.10</td>\n",
       "      <td>41.60</td>\n",
       "      <td>8.2</td>\n",
       "      <td>-1.0</td>\n",
       "    </tr>\n",
       "    <tr>\n",
       "      <th>2</th>\n",
       "      <td>Богдановича ул., 55 Информация о доме</td>\n",
       "      <td>Советский район</td>\n",
       "      <td>панельный</td>\n",
       "      <td>NaN</td>\n",
       "      <td>1978.0</td>\n",
       "      <td>раздельный</td>\n",
       "      <td>2 лоджии застекленные</td>\n",
       "      <td>отличный ремонт</td>\n",
       "      <td>Отличный ремонт, качественные материалы, стекл...</td>\n",
       "      <td>265 461 BYN</td>\n",
       "      <td>...</td>\n",
       "      <td>встроенные шкафы, стеклопакеты, бытовая техника</td>\n",
       "      <td>NaN</td>\n",
       "      <td>4.0</td>\n",
       "      <td>2.0</td>\n",
       "      <td>7</td>\n",
       "      <td>9</td>\n",
       "      <td>79.10</td>\n",
       "      <td>54.06</td>\n",
       "      <td>7.2</td>\n",
       "      <td>1450.0</td>\n",
       "    </tr>\n",
       "  </tbody>\n",
       "</table>\n",
       "<p>3 rows × 21 columns</p>\n",
       "</div>"
      ],
      "text/plain": [
       "                                   Адрес       Район города          Тип дома  \\\n",
       "0                         Прилукская ул.   Московский район  каркасно-блочный   \n",
       "1    Червякова ул., 22 Информация о доме  Центральный район         кирпичный   \n",
       "2  Богдановича ул., 55 Информация о доме    Советский район         панельный   \n",
       "\n",
       "  Высота потолков  Год постройки    Сан/узел                 Балкон  \\\n",
       "0           2.7 м         2022.0  2 сан.узла    лоджия застекленная   \n",
       "1           2.5 м         1969.0  раздельный                 балкон   \n",
       "2             NaN         1978.0  раздельный  2 лоджии застекленные   \n",
       "\n",
       "              Ремонт                                         Примечания  \\\n",
       "0        без отделки  Новый жилой комплекс комфорт класса «Smart» на...   \n",
       "1  нормальный ремонт    Поможем продать вашу квартиру для покупки этой.   \n",
       "2    отличный ремонт  Отличный ремонт, качественные материалы, стекл...   \n",
       "\n",
       "            Цена  ...                                    Дополнительно Полы  \\\n",
       "0   125 146 BYN   ...                                              NaN  NaN   \n",
       "1   161 805 BYN   ...                                              NaN  NaN   \n",
       "2   265 461 BYN   ...  встроенные шкафы, стеклопакеты, бытовая техника  NaN   \n",
       "\n",
       "  Все комнаты  Раздельных комнат  Этаж  Этажность  Площадь общая  \\\n",
       "0         1.0                1.0     7         14          41.74   \n",
       "1         3.0                2.0     2          9          60.10   \n",
       "2         4.0                2.0     7          9          79.10   \n",
       "\n",
       "   Площадь жилая  Площадь кухни  Расстояние до метро  \n",
       "0          27.56            NaN                900.0  \n",
       "1          41.60            8.2                 -1.0  \n",
       "2          54.06            7.2               1450.0  \n",
       "\n",
       "[3 rows x 21 columns]"
      ]
     },
     "execution_count": 27,
     "metadata": {},
     "output_type": "execute_result"
    }
   ],
   "source": [
    "df.head(3)"
   ]
  },
  {
   "cell_type": "markdown",
   "metadata": {},
   "source": [
    "Посмотрим на стольец Типы домов"
   ]
  },
  {
   "cell_type": "code",
   "execution_count": 29,
   "metadata": {},
   "outputs": [
    {
     "data": {
      "text/plain": [
       "array(['каркасно-блочный', 'кирпичный', 'панельный', 'силикатные блоки',\n",
       "       'монолитный', 'блок-комнаты', 'бревенчатый', nan, 'мк', 'кар'],\n",
       "      dtype=object)"
      ]
     },
     "execution_count": 29,
     "metadata": {},
     "output_type": "execute_result"
    }
   ],
   "source": [
    "df['Тип дома'].unique()"
   ]
  },
  {
   "cell_type": "code",
   "execution_count": 30,
   "metadata": {},
   "outputs": [
    {
     "data": {
      "text/html": [
       "<div>\n",
       "<style scoped>\n",
       "    .dataframe tbody tr th:only-of-type {\n",
       "        vertical-align: middle;\n",
       "    }\n",
       "\n",
       "    .dataframe tbody tr th {\n",
       "        vertical-align: top;\n",
       "    }\n",
       "\n",
       "    .dataframe thead th {\n",
       "        text-align: right;\n",
       "    }\n",
       "</style>\n",
       "<table border=\"1\" class=\"dataframe\">\n",
       "  <thead>\n",
       "    <tr style=\"text-align: right;\">\n",
       "      <th></th>\n",
       "      <th>Адрес</th>\n",
       "      <th>Район города</th>\n",
       "      <th>Тип дома</th>\n",
       "      <th>Высота потолков</th>\n",
       "      <th>Год постройки</th>\n",
       "      <th>Сан/узел</th>\n",
       "      <th>Балкон</th>\n",
       "      <th>Ремонт</th>\n",
       "      <th>Примечания</th>\n",
       "      <th>Цена</th>\n",
       "      <th>...</th>\n",
       "      <th>Дополнительно</th>\n",
       "      <th>Полы</th>\n",
       "      <th>Все комнаты</th>\n",
       "      <th>Раздельных комнат</th>\n",
       "      <th>Этаж</th>\n",
       "      <th>Этажность</th>\n",
       "      <th>Площадь общая</th>\n",
       "      <th>Площадь жилая</th>\n",
       "      <th>Площадь кухни</th>\n",
       "      <th>Расстояние до метро</th>\n",
       "    </tr>\n",
       "  </thead>\n",
       "  <tbody>\n",
       "    <tr>\n",
       "      <th>13525</th>\n",
       "      <td>Филимонова ул., 14 Информация о доме</td>\n",
       "      <td>Партизанский район</td>\n",
       "      <td>кар</td>\n",
       "      <td>2.7 м</td>\n",
       "      <td>2004.0</td>\n",
       "      <td>2 сан.узла</td>\n",
       "      <td>лоджия застекленная</td>\n",
       "      <td>отличный ремонт</td>\n",
       "      <td>Улучшенная просторная квартира в монолитном до...</td>\n",
       "      <td>446 429 BYN</td>\n",
       "      <td>...</td>\n",
       "      <td>мебель, встроенные шкафы, джакузи, металлическ...</td>\n",
       "      <td>ламинированные</td>\n",
       "      <td>4.0</td>\n",
       "      <td>4.0</td>\n",
       "      <td>12</td>\n",
       "      <td>19</td>\n",
       "      <td>115.0</td>\n",
       "      <td>71.0</td>\n",
       "      <td>14.0</td>\n",
       "      <td>-1.0</td>\n",
       "    </tr>\n",
       "  </tbody>\n",
       "</table>\n",
       "<p>1 rows × 21 columns</p>\n",
       "</div>"
      ],
      "text/plain": [
       "                                      Адрес        Район города Тип дома  \\\n",
       "13525  Филимонова ул., 14 Информация о доме  Партизанский район      кар   \n",
       "\n",
       "      Высота потолков  Год постройки    Сан/узел               Балкон  \\\n",
       "13525           2.7 м         2004.0  2 сан.узла  лоджия застекленная   \n",
       "\n",
       "                Ремонт                                         Примечания  \\\n",
       "13525  отличный ремонт  Улучшенная просторная квартира в монолитном до...   \n",
       "\n",
       "                Цена  ...                                      Дополнительно  \\\n",
       "13525   446 429 BYN   ...  мебель, встроенные шкафы, джакузи, металлическ...   \n",
       "\n",
       "                 Полы Все комнаты  Раздельных комнат  Этаж  Этажность  \\\n",
       "13525  ламинированные         4.0                4.0    12         19   \n",
       "\n",
       "       Площадь общая  Площадь жилая  Площадь кухни  Расстояние до метро  \n",
       "13525          115.0           71.0           14.0                 -1.0  \n",
       "\n",
       "[1 rows x 21 columns]"
      ]
     },
     "execution_count": 30,
     "metadata": {},
     "output_type": "execute_result"
    }
   ],
   "source": [
    "df[df['Тип дома']=='кар']"
   ]
  },
  {
   "cell_type": "markdown",
   "metadata": {},
   "source": [
    "Удалим непонятный нам тип потому что он единственный "
   ]
  },
  {
   "cell_type": "code",
   "execution_count": 31,
   "metadata": {},
   "outputs": [],
   "source": [
    "df.drop(df[df['Тип дома']=='кар'].index, inplace=True)"
   ]
  },
  {
   "cell_type": "markdown",
   "metadata": {},
   "source": [
    "Переведем числовые значения в правильный тип"
   ]
  },
  {
   "cell_type": "code",
   "execution_count": 32,
   "metadata": {},
   "outputs": [],
   "source": [
    "df['Высота потолков'].fillna(-1, inplace=True)\n",
    "df['Высота потолков'] = df['Высота потолков'].apply(str)\n",
    "df['Высота потолков'] = df['Высота потолков'].apply(lambda x: x[:-2] if x != '-1' else -1)"
   ]
  },
  {
   "cell_type": "code",
   "execution_count": 33,
   "metadata": {},
   "outputs": [],
   "source": [
    "df['Цена'] = df['Цена'].apply(lambda x: x[:-4])\n",
    "df['Цена'] = df['Цена'].apply(lambda x: x.replace(\" \", \"\"))\n",
    "df['Цена'] = pd.to_numeric(df['Цена'])"
   ]
  },
  {
   "cell_type": "code",
   "execution_count": 34,
   "metadata": {},
   "outputs": [
    {
     "name": "stdout",
     "output_type": "stream",
     "text": [
      "<class 'pandas.core.frame.DataFrame'>\n",
      "Int64Index: 13914 entries, 0 to 13914\n",
      "Data columns (total 21 columns):\n",
      " #   Column               Non-Null Count  Dtype  \n",
      "---  ------               --------------  -----  \n",
      " 0   Адрес                13914 non-null  object \n",
      " 1   Район города         13914 non-null  object \n",
      " 2   Тип дома             13061 non-null  object \n",
      " 3   Высота потолков      13914 non-null  object \n",
      " 4   Год постройки        13261 non-null  float64\n",
      " 5   Сан/узел             11039 non-null  object \n",
      " 6   Балкон               12846 non-null  object \n",
      " 7   Ремонт               8511 non-null   object \n",
      " 8   Примечания           7170 non-null   object \n",
      " 9   Цена                 13914 non-null  int64  \n",
      " 10  Планировка           11641 non-null  object \n",
      " 11  Дополнительно        10645 non-null  object \n",
      " 12  Полы                 7144 non-null   object \n",
      " 13  Все комнаты          8284 non-null   float64\n",
      " 14  Раздельных комнат    13911 non-null  float64\n",
      " 15  Этаж                 13914 non-null  int64  \n",
      " 16  Этажность            13914 non-null  int64  \n",
      " 17  Площадь общая        13913 non-null  float64\n",
      " 18  Площадь жилая        13213 non-null  float64\n",
      " 19  Площадь кухни        10320 non-null  float64\n",
      " 20  Расстояние до метро  13914 non-null  float64\n",
      "dtypes: float64(7), int64(3), object(11)\n",
      "memory usage: 2.3+ MB\n"
     ]
    }
   ],
   "source": [
    "df.info()"
   ]
  },
  {
   "cell_type": "code",
   "execution_count": 35,
   "metadata": {},
   "outputs": [],
   "source": [
    "df.to_csv('processed_data.csv', index=False)"
   ]
  },
  {
   "cell_type": "code",
   "execution_count": null,
   "metadata": {},
   "outputs": [],
   "source": []
  }
 ],
 "metadata": {
  "kernelspec": {
   "display_name": "Python 3",
   "language": "python",
   "name": "python3"
  },
  "language_info": {
   "codemirror_mode": {
    "name": "ipython",
    "version": 3
   },
   "file_extension": ".py",
   "mimetype": "text/x-python",
   "name": "python",
   "nbconvert_exporter": "python",
   "pygments_lexer": "ipython3",
   "version": "3.8.5"
  }
 },
 "nbformat": 4,
 "nbformat_minor": 4
}
